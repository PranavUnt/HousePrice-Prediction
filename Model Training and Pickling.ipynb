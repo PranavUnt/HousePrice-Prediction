{
  "cells": [
    {
      "cell_type": "markdown",
      "metadata": {
        "id": "9-A0rzebxKMK"
      },
      "source": [
        "## ADTA\n",
        "### Team Project 7"
      ]
    },
    {
      "cell_type": "markdown",
      "metadata": {
        "id": "KVYpxkm7xKMM"
      },
      "source": [
        "### Analysis and Results of the Data"
      ]
    },
    {
      "cell_type": "code",
      "execution_count": 1,
      "metadata": {
        "colab": {
          "base_uri": "https://localhost:8080/",
          "height": 441
        },
        "id": "b1Gj2hVpxKMN",
        "outputId": "c48934fe-841a-4044-c320-02dfec45cda4"
      },
      "outputs": [
        {
          "name": "stdout",
          "output_type": "stream",
          "text": [
            "The dataset is\n"
          ]
        },
        {
          "data": {
            "text/html": [
              "<div>\n",
              "<style scoped>\n",
              "    .dataframe tbody tr th:only-of-type {\n",
              "        vertical-align: middle;\n",
              "    }\n",
              "\n",
              "    .dataframe tbody tr th {\n",
              "        vertical-align: top;\n",
              "    }\n",
              "\n",
              "    .dataframe thead th {\n",
              "        text-align: right;\n",
              "    }\n",
              "</style>\n",
              "<table border=\"1\" class=\"dataframe\">\n",
              "  <thead>\n",
              "    <tr style=\"text-align: right;\">\n",
              "      <th></th>\n",
              "      <th>Record</th>\n",
              "      <th>Sale_amount</th>\n",
              "      <th>Sale_date</th>\n",
              "      <th>Beds</th>\n",
              "      <th>Baths</th>\n",
              "      <th>Sqft_home</th>\n",
              "      <th>Sqft_lot</th>\n",
              "      <th>Type</th>\n",
              "      <th>Build_year</th>\n",
              "      <th>Town</th>\n",
              "      <th>University</th>\n",
              "    </tr>\n",
              "  </thead>\n",
              "  <tbody>\n",
              "    <tr>\n",
              "      <th>0</th>\n",
              "      <td>1</td>\n",
              "      <td>295000</td>\n",
              "      <td>2016-05-31</td>\n",
              "      <td>5</td>\n",
              "      <td>3.00</td>\n",
              "      <td>2020</td>\n",
              "      <td>38332.8</td>\n",
              "      <td>Single Family</td>\n",
              "      <td>1976</td>\n",
              "      <td>Ames, IA</td>\n",
              "      <td>Iowa State University</td>\n",
              "    </tr>\n",
              "    <tr>\n",
              "      <th>1</th>\n",
              "      <td>2</td>\n",
              "      <td>240000</td>\n",
              "      <td>2016-06-20</td>\n",
              "      <td>4</td>\n",
              "      <td>2.00</td>\n",
              "      <td>1498</td>\n",
              "      <td>54014.4</td>\n",
              "      <td>Single Family</td>\n",
              "      <td>2002</td>\n",
              "      <td>Ames, IA</td>\n",
              "      <td>Iowa State University</td>\n",
              "    </tr>\n",
              "    <tr>\n",
              "      <th>2</th>\n",
              "      <td>3</td>\n",
              "      <td>385000</td>\n",
              "      <td>2016-05-31</td>\n",
              "      <td>5</td>\n",
              "      <td>4.00</td>\n",
              "      <td>4000</td>\n",
              "      <td>85813.2</td>\n",
              "      <td>Single Family</td>\n",
              "      <td>2001</td>\n",
              "      <td>Ames, IA</td>\n",
              "      <td>Iowa State University</td>\n",
              "    </tr>\n",
              "    <tr>\n",
              "      <th>3</th>\n",
              "      <td>4</td>\n",
              "      <td>268000</td>\n",
              "      <td>2016-04-12</td>\n",
              "      <td>3</td>\n",
              "      <td>2.50</td>\n",
              "      <td>2283</td>\n",
              "      <td>118918.8</td>\n",
              "      <td>Single Family</td>\n",
              "      <td>1972</td>\n",
              "      <td>Ames, IA</td>\n",
              "      <td>Iowa State University</td>\n",
              "    </tr>\n",
              "    <tr>\n",
              "      <th>4</th>\n",
              "      <td>5</td>\n",
              "      <td>186000</td>\n",
              "      <td>2016-04-05</td>\n",
              "      <td>3</td>\n",
              "      <td>1.25</td>\n",
              "      <td>1527</td>\n",
              "      <td>15681.6</td>\n",
              "      <td>Single Family</td>\n",
              "      <td>1975</td>\n",
              "      <td>Ames, IA</td>\n",
              "      <td>Iowa State University</td>\n",
              "    </tr>\n",
              "    <tr>\n",
              "      <th>...</th>\n",
              "      <td>...</td>\n",
              "      <td>...</td>\n",
              "      <td>...</td>\n",
              "      <td>...</td>\n",
              "      <td>...</td>\n",
              "      <td>...</td>\n",
              "      <td>...</td>\n",
              "      <td>...</td>\n",
              "      <td>...</td>\n",
              "      <td>...</td>\n",
              "      <td>...</td>\n",
              "    </tr>\n",
              "    <tr>\n",
              "      <th>10654</th>\n",
              "      <td>10655</td>\n",
              "      <td>320000</td>\n",
              "      <td>2016-06-07</td>\n",
              "      <td>3</td>\n",
              "      <td>2.00</td>\n",
              "      <td>1870</td>\n",
              "      <td>13068.0</td>\n",
              "      <td>Single Family</td>\n",
              "      <td>2012</td>\n",
              "      <td>Waterloo-Cedar Falls, IA</td>\n",
              "      <td>University of Northern Iowa</td>\n",
              "    </tr>\n",
              "    <tr>\n",
              "      <th>10655</th>\n",
              "      <td>10656</td>\n",
              "      <td>359100</td>\n",
              "      <td>2016-04-08</td>\n",
              "      <td>5</td>\n",
              "      <td>4.50</td>\n",
              "      <td>2119</td>\n",
              "      <td>11325.6</td>\n",
              "      <td>Single Family</td>\n",
              "      <td>2013</td>\n",
              "      <td>Waterloo-Cedar Falls, IA</td>\n",
              "      <td>University of Northern Iowa</td>\n",
              "    </tr>\n",
              "    <tr>\n",
              "      <th>10656</th>\n",
              "      <td>10657</td>\n",
              "      <td>349646</td>\n",
              "      <td>2016-06-13</td>\n",
              "      <td>3</td>\n",
              "      <td>1.75</td>\n",
              "      <td>1949</td>\n",
              "      <td>14374.8</td>\n",
              "      <td>Single Family</td>\n",
              "      <td>2015</td>\n",
              "      <td>Waterloo-Cedar Falls, IA</td>\n",
              "      <td>University of Northern Iowa</td>\n",
              "    </tr>\n",
              "    <tr>\n",
              "      <th>10657</th>\n",
              "      <td>10658</td>\n",
              "      <td>288000</td>\n",
              "      <td>2016-04-16</td>\n",
              "      <td>4</td>\n",
              "      <td>4.00</td>\n",
              "      <td>2710</td>\n",
              "      <td>10890.0</td>\n",
              "      <td>Single Family</td>\n",
              "      <td>2012</td>\n",
              "      <td>Waterloo-Cedar Falls, IA</td>\n",
              "      <td>University of Northern Iowa</td>\n",
              "    </tr>\n",
              "    <tr>\n",
              "      <th>10658</th>\n",
              "      <td>10659</td>\n",
              "      <td>330000</td>\n",
              "      <td>2016-07-01</td>\n",
              "      <td>4</td>\n",
              "      <td>3.00</td>\n",
              "      <td>2702</td>\n",
              "      <td>13068.0</td>\n",
              "      <td>Single Family</td>\n",
              "      <td>2012</td>\n",
              "      <td>Waterloo-Cedar Falls, IA</td>\n",
              "      <td>University of Northern Iowa</td>\n",
              "    </tr>\n",
              "  </tbody>\n",
              "</table>\n",
              "<p>10659 rows × 11 columns</p>\n",
              "</div>"
            ],
            "text/plain": [
              "       Record  Sale_amount  Sale_date  Beds  Baths  Sqft_home  Sqft_lot  \\\n",
              "0           1       295000 2016-05-31     5   3.00       2020   38332.8   \n",
              "1           2       240000 2016-06-20     4   2.00       1498   54014.4   \n",
              "2           3       385000 2016-05-31     5   4.00       4000   85813.2   \n",
              "3           4       268000 2016-04-12     3   2.50       2283  118918.8   \n",
              "4           5       186000 2016-04-05     3   1.25       1527   15681.6   \n",
              "...       ...          ...        ...   ...    ...        ...       ...   \n",
              "10654   10655       320000 2016-06-07     3   2.00       1870   13068.0   \n",
              "10655   10656       359100 2016-04-08     5   4.50       2119   11325.6   \n",
              "10656   10657       349646 2016-06-13     3   1.75       1949   14374.8   \n",
              "10657   10658       288000 2016-04-16     4   4.00       2710   10890.0   \n",
              "10658   10659       330000 2016-07-01     4   3.00       2702   13068.0   \n",
              "\n",
              "                Type  Build_year                      Town  \\\n",
              "0      Single Family        1976                  Ames, IA   \n",
              "1      Single Family        2002                  Ames, IA   \n",
              "2      Single Family        2001                  Ames, IA   \n",
              "3      Single Family        1972                  Ames, IA   \n",
              "4      Single Family        1975                  Ames, IA   \n",
              "...              ...         ...                       ...   \n",
              "10654  Single Family        2012  Waterloo-Cedar Falls, IA   \n",
              "10655  Single Family        2013  Waterloo-Cedar Falls, IA   \n",
              "10656  Single Family        2015  Waterloo-Cedar Falls, IA   \n",
              "10657  Single Family        2012  Waterloo-Cedar Falls, IA   \n",
              "10658  Single Family        2012  Waterloo-Cedar Falls, IA   \n",
              "\n",
              "                        University  \n",
              "0            Iowa State University  \n",
              "1            Iowa State University  \n",
              "2            Iowa State University  \n",
              "3            Iowa State University  \n",
              "4            Iowa State University  \n",
              "...                            ...  \n",
              "10654  University of Northern Iowa  \n",
              "10655  University of Northern Iowa  \n",
              "10656  University of Northern Iowa  \n",
              "10657  University of Northern Iowa  \n",
              "10658  University of Northern Iowa  \n",
              "\n",
              "[10659 rows x 11 columns]"
            ]
          },
          "execution_count": 1,
          "metadata": {},
          "output_type": "execute_result"
        }
      ],
      "source": [
        "import pandas as pd\n",
        "import numpy as np\n",
        "data=pd.read_excel('final project data 1.xlsx')\n",
        "print(\"The dataset is\")\n",
        "data"
      ]
    },
    {
      "cell_type": "markdown",
      "metadata": {
        "id": "RDBptDbvxKMQ"
      },
      "source": [
        "### Comparing the relationships between the features of the data"
      ]
    },
    {
      "cell_type": "markdown",
      "metadata": {
        "id": "R50rEp5KxKMR"
      },
      "source": [
        "Rows"
      ]
    },
    {
      "cell_type": "code",
      "execution_count": 2,
      "metadata": {
        "colab": {
          "base_uri": "https://localhost:8080/"
        },
        "id": "3V_92X8AxKMR",
        "outputId": "df0458e0-db0a-4a0d-8c59-4cfe8c980cc9"
      },
      "outputs": [
        {
          "name": "stdout",
          "output_type": "stream",
          "text": [
            "The total number of entries (rows) in the dataset:  10659\n"
          ]
        }
      ],
      "source": [
        "N=len(data)\n",
        "print(\"The total number of entries (rows) in the dataset: \",N)"
      ]
    },
    {
      "cell_type": "markdown",
      "metadata": {
        "id": "A6jJDcI_xKMR"
      },
      "source": [
        "Columns"
      ]
    },
    {
      "cell_type": "code",
      "execution_count": 3,
      "metadata": {
        "colab": {
          "base_uri": "https://localhost:8080/"
        },
        "id": "MKWzShuVxKMR",
        "outputId": "19ce0da8-afaa-4dba-9ca8-300a3d392a93"
      },
      "outputs": [
        {
          "name": "stdout",
          "output_type": "stream",
          "text": [
            "The total number of features (columns) in the dataset:  11\n"
          ]
        }
      ],
      "source": [
        "print(\"The total number of features (columns) in the dataset: \", data.shape[1])"
      ]
    },
    {
      "cell_type": "code",
      "execution_count": 4,
      "metadata": {
        "colab": {
          "base_uri": "https://localhost:8080/"
        },
        "id": "v20dhc8JxKMS",
        "outputId": "cd23c6fd-3f53-4a45-def9-7ec83eae51c7"
      },
      "outputs": [
        {
          "name": "stdout",
          "output_type": "stream",
          "text": [
            "The features in the dataset are\n",
            "Record\n",
            "Sale_amount\n",
            "Sale_date\n",
            "Beds\n",
            "Baths\n",
            "Sqft_home\n",
            "Sqft_lot\n",
            "Type\n",
            "Build_year\n",
            "Town\n",
            "University\n"
          ]
        }
      ],
      "source": [
        "print(\"The features in the dataset are\")\n",
        "for column in data.columns:\n",
        "    print(column)\n"
      ]
    },
    {
      "cell_type": "markdown",
      "metadata": {
        "id": "0Y1Dj5myxKMS"
      },
      "source": [
        "Generally, the dependent variable in the dataset is 'Sale Amount' (Sale_amount). All the other features are independent variables which affect the feature 'Sale Amount'.\n"
      ]
    },
    {
      "cell_type": "markdown",
      "metadata": {
        "id": "r-AanUirxKMS"
      },
      "source": [
        "Although these are the main classes of data, we can even compare the dependencies and relationships amoung these variables"
      ]
    },
    {
      "cell_type": "markdown",
      "metadata": {
        "id": "XlFaJcF0xKMS"
      },
      "source": [
        "### Analysis 1:"
      ]
    },
    {
      "cell_type": "markdown",
      "metadata": {
        "id": "o_Tr3ZfnxKMS"
      },
      "source": [
        "Dependent variable: Sale_amount"
      ]
    },
    {
      "cell_type": "code",
      "execution_count": 5,
      "metadata": {
        "colab": {
          "base_uri": "https://localhost:8080/"
        },
        "id": "iCX0pmaIxKMT",
        "outputId": "cd7cb6db-c6a1-4857-d9b7-97cf194b30ab"
      },
      "outputs": [],
      "source": [
        "import pandas as pd\n",
        "import statsmodels.api as sm\n",
        "from statsmodels.formula.api import ols"
      ]
    },
    {
      "cell_type": "markdown",
      "metadata": {
        "id": "fs29F1ZQxKMT"
      },
      "source": [
        "Regression test"
      ]
    },
    {
      "cell_type": "markdown",
      "metadata": {
        "id": "fXkkmxsoxKMT"
      },
      "source": [
        "Independent Variable: Beds, Baths, Sqft_home, Sqft_lot"
      ]
    },
    {
      "cell_type": "code",
      "execution_count": 6,
      "metadata": {
        "id": "mKs4KOtGxKMT"
      },
      "outputs": [],
      "source": [
        "X = data[['Beds', 'Baths', 'Sqft_home','Sqft_lot']]\n",
        "X = sm.add_constant(X)"
      ]
    },
    {
      "cell_type": "markdown",
      "metadata": {
        "id": "kl-V8owoxKMT"
      },
      "source": [
        "Dependent Variable: Sale amount"
      ]
    },
    {
      "cell_type": "code",
      "execution_count": 7,
      "metadata": {
        "id": "ruOc0pGIxKMT"
      },
      "outputs": [],
      "source": [
        "Y = data['Sale_amount']"
      ]
    },
    {
      "cell_type": "markdown",
      "metadata": {
        "id": "UwuCw9q-xKMU"
      },
      "source": [
        "Model declaration and fitting the data in the model:\n",
        "Ordinary Least Squares (OLS)"
      ]
    },
    {
      "cell_type": "code",
      "execution_count": 8,
      "metadata": {
        "id": "dfppK0PgxKMU"
      },
      "outputs": [],
      "source": [
        "model = sm.OLS(Y, X)\n",
        "results = model.fit()"
      ]
    },
    {
      "cell_type": "markdown",
      "metadata": {
        "id": "Ujn4w06xxKMU"
      },
      "source": [
        "Dependency of Sale amount on these taken columns"
      ]
    },
    {
      "cell_type": "code",
      "execution_count": 9,
      "metadata": {
        "colab": {
          "base_uri": "https://localhost:8080/"
        },
        "id": "TyQIcVvXxKMU",
        "outputId": "85fe9613-1f26-4ff5-e3d7-adbac07ee03d"
      },
      "outputs": [
        {
          "name": "stdout",
          "output_type": "stream",
          "text": [
            "Dependency of Sqft_home on const: -24677.43009404655\n",
            "Dependency of Sqft_home on Beds: 8221.253640829527\n",
            "Dependency of Sqft_home on Baths: 88637.2395934763\n",
            "Dependency of Sqft_home on Sqft_home: 58.91108786635807\n",
            "Dependency of Sqft_home on Sqft_lot: 0.19431253275355348\n"
          ]
        }
      ],
      "source": [
        "params = results.params\n",
        "for i, feature_name in enumerate(X.columns):\n",
        "    print(f\"Dependency of Sqft_home on {feature_name}: {params.iloc[i]}\")"
      ]
    },
    {
      "cell_type": "markdown",
      "metadata": {
        "id": "W18k_3iqxKMU"
      },
      "source": [
        "Summary of Regression"
      ]
    },
    {
      "cell_type": "code",
      "execution_count": 10,
      "metadata": {
        "colab": {
          "base_uri": "https://localhost:8080/"
        },
        "id": "08gzPNs-xKMU",
        "outputId": "ebfd7eec-ed12-434e-b190-401e6e9bed1c"
      },
      "outputs": [
        {
          "name": "stdout",
          "output_type": "stream",
          "text": [
            "                            OLS Regression Results                            \n",
            "==============================================================================\n",
            "Dep. Variable:            Sale_amount   R-squared:                       0.299\n",
            "Model:                            OLS   Adj. R-squared:                  0.299\n",
            "Method:                 Least Squares   F-statistic:                     1136.\n",
            "Date:                Sun, 12 Nov 2023   Prob (F-statistic):               0.00\n",
            "Time:                        08:00:02   Log-Likelihood:            -1.4903e+05\n",
            "No. Observations:               10659   AIC:                         2.981e+05\n",
            "Df Residuals:                   10654   BIC:                         2.981e+05\n",
            "Df Model:                           4                                         \n",
            "Covariance Type:            nonrobust                                         \n",
            "==============================================================================\n",
            "                 coef    std err          t      P>|t|      [0.025      0.975]\n",
            "------------------------------------------------------------------------------\n",
            "const      -2.468e+04   9897.363     -2.493      0.013   -4.41e+04   -5276.752\n",
            "Beds        8221.2536   3430.923      2.396      0.017    1496.005    1.49e+04\n",
            "Baths       8.864e+04   4089.823     21.673      0.000    8.06e+04    9.67e+04\n",
            "Sqft_home     58.9111      2.441     24.135      0.000      54.127      63.696\n",
            "Sqft_lot       0.1943      0.038      5.054      0.000       0.119       0.270\n",
            "==============================================================================\n",
            "Omnibus:                     9663.852   Durbin-Watson:                   0.638\n",
            "Prob(Omnibus):                  0.000   Jarque-Bera (JB):           525060.863\n",
            "Skew:                           4.215   Prob(JB):                         0.00\n",
            "Kurtosis:                      36.334   Cond. No.                     2.82e+05\n",
            "==============================================================================\n",
            "\n",
            "Notes:\n",
            "[1] Standard Errors assume that the covariance matrix of the errors is correctly specified.\n",
            "[2] The condition number is large, 2.82e+05. This might indicate that there are\n",
            "strong multicollinearity or other numerical problems.\n"
          ]
        }
      ],
      "source": [
        "print(results.summary())"
      ]
    },
    {
      "cell_type": "markdown",
      "metadata": {
        "id": "UBmqMQ8NRVxV"
      },
      "source": [
        "Regression Metrics"
      ]
    },
    {
      "cell_type": "code",
      "execution_count": 11,
      "metadata": {
        "colab": {
          "base_uri": "https://localhost:8080/"
        },
        "id": "IaswR6_uRVxW",
        "outputId": "d3107e73-d655-4f6b-e681-0f64f234aafb"
      },
      "outputs": [
        {
          "name": "stdout",
          "output_type": "stream",
          "text": [
            "                                 Metric         Value\n",
            "0                        R-squared (R2)  2.990142e-01\n",
            "1                    Adjusted R-squared  2.987510e-01\n",
            "2              Mean Squared Error (MSE)  8.168600e+10\n",
            "3        Root Mean Squared Error (RMSE)  2.858076e+05\n",
            "4                           F-statistic  1.136149e+03\n",
            "5                   F-statistic p-value  0.000000e+00\n",
            "6    Akaike Information Criterion (AIC)  2.980735e+05\n",
            "7  Bayesian Information Criterion (BIC)  2.981099e+05\n"
          ]
        },
        {
          "name": "stderr",
          "output_type": "stream",
          "text": [
            "C:\\Users\\Sasha\\AppData\\Local\\Temp\\ipykernel_14920\\2518820042.py:3: FutureWarning: The behavior of DataFrame concatenation with empty or all-NA entries is deprecated. In a future version, this will no longer exclude empty or all-NA columns when determining the result dtypes. To retain the old behavior, exclude the relevant entries before the concat operation.\n",
            "  metrics_table = pd.concat([\n"
          ]
        }
      ],
      "source": [
        "metrics_table = pd.DataFrame(columns=['Metric', 'Value'])\n",
        "\n",
        "metrics_table = pd.concat([\n",
        "    metrics_table,\n",
        "    pd.DataFrame({'Metric': ['R-squared (R2)', 'Adjusted R-squared', 'Mean Squared Error (MSE)',\n",
        "                             'Root Mean Squared Error (RMSE)', 'F-statistic', 'F-statistic p-value',\n",
        "                             'Akaike Information Criterion (AIC)', 'Bayesian Information Criterion (BIC)'],\n",
        "                  'Value': [results.rsquared, results.rsquared_adj, results.mse_resid,\n",
        "                            np.sqrt(results.mse_resid), results.fvalue, results.f_pvalue,\n",
        "                            results.aic, results.bic]})\n",
        "], ignore_index=True)\n",
        "\n",
        "print(metrics_table)"
      ]
    },
    {
      "cell_type": "markdown",
      "metadata": {
        "id": "SyG_oAF6xKMU"
      },
      "source": [
        "Regression plot"
      ]
    },
    {
      "cell_type": "code",
      "execution_count": 12,
      "metadata": {
        "colab": {
          "base_uri": "https://localhost:8080/",
          "height": 407
        },
        "id": "J1aDKfomxKMV",
        "outputId": "0a91e2ab-5d40-4ae0-b0a9-28315533f7a6"
      },
      "outputs": [
        {
          "data": {
            "image/png": "[encoded data removed]",
            "text/plain": [
              "<Figure size 1200x400 with 4 Axes>"
            ]
          },
          "metadata": {},
          "output_type": "display_data"
        }
      ],
      "source": [
        "import matplotlib.pyplot as plt\n",
        "Y_p = results.predict(X)\n",
        "\n",
        "fig, axes = plt.subplots(nrows=1, ncols=len(X.columns)-1, figsize=(12, 4))\n",
        "\n",
        "for i, var in enumerate(X.columns[1:]):\n",
        "    axes[i].scatter(X[var], Y, label='Actual')\n",
        "    axes[i].scatter(X[var], Y_p, color='red', label='Regression Fit')\n",
        "    axes[i].set_xlabel(var)\n",
        "    axes[i].set_ylabel('Sale Amount')\n",
        "    axes[i].legend()\n",
        "\n",
        "plt.tight_layout()\n",
        "plt.show()"
      ]
    },
    {
      "cell_type": "markdown",
      "metadata": {},
      "source": [
        "CI"
      ]
    },
    {
      "cell_type": "code",
      "execution_count": 15,
      "metadata": {},
      "outputs": [
        {
          "name": "stdout",
          "output_type": "stream",
          "text": [
            "Coefficient Estimates:\n",
            "const       -24677.430094\n",
            "Beds          8221.253641\n",
            "Baths        88637.239593\n",
            "Sqft_home       58.911088\n",
            "Sqft_lot         0.194313\n",
            "dtype: float64\n",
            "\n",
            "Confidence Intervals:\n",
            "               Lower CI      Upper CI\n",
            "const     -44078.108496  -5276.751692\n",
            "Beds        1496.004763  14946.502519\n",
            "Baths      80620.422542  96654.056645\n",
            "Sqft_home     54.126553     63.695623\n",
            "Sqft_lot       0.118954      0.269671\n"
          ]
        }
      ],
      "source": [
        "import statsmodels.api as sm\n",
        "import scipy.stats as stats\n",
        "import pandas as pd\n",
        "\n",
        "# Assuming X is your design matrix and y is your response variable\n",
        "model = sm.OLS(Y, X).fit()\n",
        "\n",
        "# Extract coefficients and standard errors\n",
        "coefs = model.params\n",
        "se = model.bse\n",
        "\n",
        "# Determine degrees of freedom\n",
        "df = model.df_resid\n",
        "\n",
        "# Find critical t-value for 95% confidence interval\n",
        "t_value = stats.t.ppf(0.975, df)\n",
        "\n",
        "# Calculate confidence intervals\n",
        "ci_lower = coefs - t_value * se\n",
        "ci_upper = coefs + t_value * se\n",
        "\n",
        "# Display results\n",
        "print(\"Coefficient Estimates:\")\n",
        "print(coefs)\n",
        "print(\"\\nConfidence Intervals:\")\n",
        "print(pd.DataFrame({'Lower CI': ci_lower, 'Upper CI': ci_upper}))\n"
      ]
    },
    {
      "cell_type": "markdown",
      "metadata": {
        "id": "a2n79n2hxmeU"
      },
      "source": [
        "### Analysis 2:"
      ]
    },
    {
      "cell_type": "markdown",
      "metadata": {
        "id": "cTFCTluCxmeW"
      },
      "source": [
        "Dependent variable: Sale Amount"
      ]
    },
    {
      "cell_type": "markdown",
      "metadata": {},
      "source": [
        "Independent variable: Family Type"
      ]
    },
    {
      "cell_type": "markdown",
      "metadata": {},
      "source": [
        "ANOVA Analysis"
      ]
    },
    {
      "cell_type": "code",
      "execution_count": null,
      "metadata": {
        "colab": {
          "base_uri": "https://localhost:8080/"
        },
        "id": "JVpoFlpBxmeX",
        "outputId": "210199ec-3ca7-489b-b0a2-d356fede16e7"
      },
      "outputs": [
        {
          "name": "stdout",
          "output_type": "stream",
          "text": [
            "ANOVA results:\n",
            "                sum_sq       df          F        PR(>F)\n",
            "Type      8.190524e+12      2.0  35.383389  4.830480e-16\n",
            "Residual  1.233322e+15  10656.0        NaN           NaN\n"
          ]
        }
      ],
      "source": [
        "import pandas as pd\n",
        "import statsmodels.api as sm\n",
        "from statsmodels.formula.api import ols\n",
        "\n",
        "\n",
        "formula = \"Sale_amount ~ Type \"\n",
        "\n",
        "model = ols(formula, data=data).fit()\n",
        "\n",
        "anova_table = sm.stats.anova_lm(model, typ=2)\n",
        "\n",
        "print(\"ANOVA results:\")\n",
        "print(anova_table)\n"
      ]
    },
    {
      "cell_type": "markdown",
      "metadata": {
        "id": "3NVY6k7sMdlQ"
      },
      "source": [
        "Correlation co-efficient"
      ]
    },
    {
      "cell_type": "code",
      "execution_count": null,
      "metadata": {
        "colab": {
          "base_uri": "https://localhost:8080/"
        },
        "id": "ja-y2OwpMdzd",
        "outputId": "c6924dc7-a1c9-4f38-adf4-b50361c984a9"
      },
      "outputs": [
        {
          "name": "stdout",
          "output_type": "stream",
          "text": [
            "Correlation coefficient: 0.6177614756153998\n",
            "P-value: 0.0\n"
          ]
        }
      ],
      "source": [
        "from scipy.stats import pearsonr\n",
        "corr, p_value = pearsonr(data['Beds'], data['Baths'])\n",
        "\n",
        "print(\"Correlation coefficient:\", corr)\n",
        "print(\"P-value:\", p_value)"
      ]
    },
    {
      "cell_type": "markdown",
      "metadata": {
        "id": "bk43FO-B1ZqA"
      },
      "source": [
        "### Analysis 3:"
      ]
    },
    {
      "cell_type": "markdown",
      "metadata": {
        "id": "PBHOVI6O1ZqP"
      },
      "source": [
        "Dependent variable: Sale_amount"
      ]
    },
    {
      "cell_type": "markdown",
      "metadata": {},
      "source": [
        "Independent variable: Build_year"
      ]
    },
    {
      "cell_type": "markdown",
      "metadata": {
        "id": "hjtAlpn31ZqQ"
      },
      "source": [
        "Regression test"
      ]
    },
    {
      "cell_type": "markdown",
      "metadata": {
        "id": "7ioeNlAj1ZqR"
      },
      "source": [
        "Independent Variable"
      ]
    },
    {
      "cell_type": "code",
      "execution_count": null,
      "metadata": {
        "id": "dAm1kOrL1ZqR"
      },
      "outputs": [],
      "source": [
        "X = data[['Build_year']]\n",
        "X = sm.add_constant(X)"
      ]
    },
    {
      "cell_type": "markdown",
      "metadata": {
        "id": "s4UmBtB61ZqS"
      },
      "source": [
        "Dependent Variable"
      ]
    },
    {
      "cell_type": "code",
      "execution_count": null,
      "metadata": {
        "id": "YHf3lfXH1ZqS"
      },
      "outputs": [],
      "source": [
        "Y = data['Sqft_home']"
      ]
    },
    {
      "cell_type": "markdown",
      "metadata": {
        "id": "AgzOkN1F1ZqS"
      },
      "source": [
        "Model declaration and fitting the data in the model:\n",
        "Ordinary Least Squares (OLS)"
      ]
    },
    {
      "cell_type": "code",
      "execution_count": null,
      "metadata": {
        "id": "xL9rzT_D1ZqS"
      },
      "outputs": [],
      "source": [
        "model = sm.OLS(Y, X)\n",
        "results = model.fit()"
      ]
    },
    {
      "cell_type": "markdown",
      "metadata": {
        "id": "yYPo4Enb1ZqS"
      },
      "source": [
        "Dependency of Sale amount on these taken columns"
      ]
    },
    {
      "cell_type": "code",
      "execution_count": null,
      "metadata": {
        "colab": {
          "base_uri": "https://localhost:8080/"
        },
        "id": "ysVf8Xgj1ZqS",
        "outputId": "180048fc-b89c-479b-8598-dd0a099ae351"
      },
      "outputs": [
        {
          "name": "stdout",
          "output_type": "stream",
          "text": [
            "Dependency of Sqft_home on const: -12512.294200326276\n",
            "Dependency of Sqft_home on Build_year: 7.410093068844551\n"
          ]
        }
      ],
      "source": [
        "params = results.params\n",
        "for i, feature_name in enumerate(X.columns):\n",
        "    print(f\"Dependency of Sqft_home on {feature_name}: {params.iloc[i]}\")"
      ]
    },
    {
      "cell_type": "markdown",
      "metadata": {
        "id": "AyDCxPBo1ZqT"
      },
      "source": [
        "Summary of Regression"
      ]
    },
    {
      "cell_type": "code",
      "execution_count": null,
      "metadata": {
        "colab": {
          "base_uri": "https://localhost:8080/"
        },
        "id": "PLShOQhK1ZqT",
        "outputId": "3fc4e973-8576-400a-bf49-e48d9fb06a9d"
      },
      "outputs": [
        {
          "name": "stdout",
          "output_type": "stream",
          "text": [
            "                            OLS Regression Results                            \n",
            "==============================================================================\n",
            "Dep. Variable:              Sqft_home   R-squared:                       0.021\n",
            "Model:                            OLS   Adj. R-squared:                  0.021\n",
            "Method:                 Least Squares   F-statistic:                     229.1\n",
            "Date:                Sat, 21 Oct 2023   Prob (F-statistic):           3.26e-51\n",
            "Time:                        16:37:55   Log-Likelihood:                -94097.\n",
            "No. Observations:               10659   AIC:                         1.882e+05\n",
            "Df Residuals:                   10657   BIC:                         1.882e+05\n",
            "Df Model:                           1                                         \n",
            "Covariance Type:            nonrobust                                         \n",
            "==============================================================================\n",
            "                 coef    std err          t      P>|t|      [0.025      0.975]\n",
            "------------------------------------------------------------------------------\n",
            "const      -1.251e+04    963.823    -12.982      0.000   -1.44e+04   -1.06e+04\n",
            "Build_year     7.4101      0.490     15.135      0.000       6.450       8.370\n",
            "==============================================================================\n",
            "Omnibus:                    34895.781   Durbin-Watson:                   1.817\n",
            "Prob(Omnibus):                  0.000   Jarque-Bera (JB):       9408269644.753\n",
            "Skew:                          55.431   Prob(JB):                         0.00\n",
            "Kurtosis:                    4604.254   Cond. No.                     1.19e+05\n",
            "==============================================================================\n",
            "\n",
            "Notes:\n",
            "[1] Standard Errors assume that the covariance matrix of the errors is correctly specified.\n",
            "[2] The condition number is large, 1.19e+05. This might indicate that there are\n",
            "strong multicollinearity or other numerical problems.\n"
          ]
        }
      ],
      "source": [
        "print(results.summary())"
      ]
    },
    {
      "cell_type": "markdown",
      "metadata": {
        "id": "QQhgss6DRGbY"
      },
      "source": [
        "Regression Metrics"
      ]
    },
    {
      "cell_type": "code",
      "execution_count": null,
      "metadata": {
        "colab": {
          "base_uri": "https://localhost:8080/"
        },
        "id": "o3NaQRswRGbZ",
        "outputId": "5edfcc4f-32dd-49f7-b960-3002afb512de"
      },
      "outputs": [
        {
          "name": "stdout",
          "output_type": "stream",
          "text": [
            "                                 Metric         Value\n",
            "0                        R-squared (R2)  2.104116e-02\n",
            "1                    Adjusted R-squared  2.094930e-02\n",
            "2              Mean Squared Error (MSE)  2.725771e+06\n",
            "3        Root Mean Squared Error (RMSE)  1.650991e+03\n",
            "4                           F-statistic  2.290552e+02\n",
            "5                   F-statistic p-value  3.258293e-51\n",
            "6    Akaike Information Criterion (AIC)  1.881988e+05\n",
            "7  Bayesian Information Criterion (BIC)  1.882133e+05\n"
          ]
        },
        {
          "name": "stderr",
          "output_type": "stream",
          "text": [
            "C:\\Users\\Sasha\\AppData\\Local\\Temp\\ipykernel_1448\\2518820042.py:3: FutureWarning: The behavior of DataFrame concatenation with empty or all-NA entries is deprecated. In a future version, this will no longer exclude empty or all-NA columns when determining the result dtypes. To retain the old behavior, exclude the relevant entries before the concat operation.\n",
            "  metrics_table = pd.concat([\n"
          ]
        }
      ],
      "source": [
        "metrics_table = pd.DataFrame(columns=['Metric', 'Value'])\n",
        "\n",
        "metrics_table = pd.concat([\n",
        "    metrics_table,\n",
        "    pd.DataFrame({'Metric': ['R-squared (R2)', 'Adjusted R-squared', 'Mean Squared Error (MSE)',\n",
        "                             'Root Mean Squared Error (RMSE)', 'F-statistic', 'F-statistic p-value',\n",
        "                             'Akaike Information Criterion (AIC)', 'Bayesian Information Criterion (BIC)'],\n",
        "                  'Value': [results.rsquared, results.rsquared_adj, results.mse_resid,\n",
        "                            np.sqrt(results.mse_resid), results.fvalue, results.f_pvalue,\n",
        "                            results.aic, results.bic]})\n",
        "], ignore_index=True)\n",
        "\n",
        "print(metrics_table)"
      ]
    },
    {
      "cell_type": "markdown",
      "metadata": {
        "id": "kz6c5dov1ZqT"
      },
      "source": [
        "Regression plot"
      ]
    },
    {
      "cell_type": "code",
      "execution_count": null,
      "metadata": {
        "colab": {
          "base_uri": "https://localhost:8080/",
          "height": 407
        },
        "id": "dU0mnZkk1ZqT",
        "outputId": "3f478b5d-6754-4b04-ae2a-b39a91c28991"
      },
      "outputs": [
        {
          "data": {
            "image/png": "[encoded data removed]",
            "text/plain": [
              "<Figure size 640x480 with 1 Axes>"
            ]
          },
          "metadata": {},
          "output_type": "display_data"
        }
      ],
      "source": [
        "Y_pred = results.predict(X)\n",
        "\n",
        "fig, ax = plt.subplots()\n",
        "ax.scatter(data['Build_year'], Y, label='Actual')\n",
        "ax.scatter(data['Build_year'], Y_pred, color='red', label='Regression Fit')\n",
        "ax.set_xlabel('Build years')\n",
        "ax.set_ylabel('Sale amount')\n",
        "ax.legend()\n",
        "plt.show()"
      ]
    },
    {
      "cell_type": "markdown",
      "metadata": {},
      "source": [
        "#### Machine Learning and Prediction"
      ]
    },
    {
      "cell_type": "code",
      "execution_count": null,
      "metadata": {},
      "outputs": [
        {
          "data": {
            "text/html": [
              "<div>\n",
              "<style scoped>\n",
              "    .dataframe tbody tr th:only-of-type {\n",
              "        vertical-align: middle;\n",
              "    }\n",
              "\n",
              "    .dataframe tbody tr th {\n",
              "        vertical-align: top;\n",
              "    }\n",
              "\n",
              "    .dataframe thead th {\n",
              "        text-align: right;\n",
              "    }\n",
              "</style>\n",
              "<table border=\"1\" class=\"dataframe\">\n",
              "  <thead>\n",
              "    <tr style=\"text-align: right;\">\n",
              "      <th></th>\n",
              "      <th>Record</th>\n",
              "      <th>Sale_amount</th>\n",
              "      <th>Sale_date</th>\n",
              "      <th>Beds</th>\n",
              "      <th>Baths</th>\n",
              "      <th>Sqft_home</th>\n",
              "      <th>Sqft_lot</th>\n",
              "      <th>Type</th>\n",
              "      <th>Build_year</th>\n",
              "      <th>Town</th>\n",
              "      <th>University</th>\n",
              "    </tr>\n",
              "  </thead>\n",
              "  <tbody>\n",
              "    <tr>\n",
              "      <th>0</th>\n",
              "      <td>1</td>\n",
              "      <td>295000</td>\n",
              "      <td>2016-05-31</td>\n",
              "      <td>5</td>\n",
              "      <td>3.00</td>\n",
              "      <td>2020</td>\n",
              "      <td>38332.8</td>\n",
              "      <td>Single Family</td>\n",
              "      <td>1976</td>\n",
              "      <td>Ames, IA</td>\n",
              "      <td>Iowa State University</td>\n",
              "    </tr>\n",
              "    <tr>\n",
              "      <th>1</th>\n",
              "      <td>2</td>\n",
              "      <td>240000</td>\n",
              "      <td>2016-06-20</td>\n",
              "      <td>4</td>\n",
              "      <td>2.00</td>\n",
              "      <td>1498</td>\n",
              "      <td>54014.4</td>\n",
              "      <td>Single Family</td>\n",
              "      <td>2002</td>\n",
              "      <td>Ames, IA</td>\n",
              "      <td>Iowa State University</td>\n",
              "    </tr>\n",
              "    <tr>\n",
              "      <th>2</th>\n",
              "      <td>3</td>\n",
              "      <td>385000</td>\n",
              "      <td>2016-05-31</td>\n",
              "      <td>5</td>\n",
              "      <td>4.00</td>\n",
              "      <td>4000</td>\n",
              "      <td>85813.2</td>\n",
              "      <td>Single Family</td>\n",
              "      <td>2001</td>\n",
              "      <td>Ames, IA</td>\n",
              "      <td>Iowa State University</td>\n",
              "    </tr>\n",
              "    <tr>\n",
              "      <th>3</th>\n",
              "      <td>4</td>\n",
              "      <td>268000</td>\n",
              "      <td>2016-04-12</td>\n",
              "      <td>3</td>\n",
              "      <td>2.50</td>\n",
              "      <td>2283</td>\n",
              "      <td>118918.8</td>\n",
              "      <td>Single Family</td>\n",
              "      <td>1972</td>\n",
              "      <td>Ames, IA</td>\n",
              "      <td>Iowa State University</td>\n",
              "    </tr>\n",
              "    <tr>\n",
              "      <th>4</th>\n",
              "      <td>5</td>\n",
              "      <td>186000</td>\n",
              "      <td>2016-04-05</td>\n",
              "      <td>3</td>\n",
              "      <td>1.25</td>\n",
              "      <td>1527</td>\n",
              "      <td>15681.6</td>\n",
              "      <td>Single Family</td>\n",
              "      <td>1975</td>\n",
              "      <td>Ames, IA</td>\n",
              "      <td>Iowa State University</td>\n",
              "    </tr>\n",
              "    <tr>\n",
              "      <th>...</th>\n",
              "      <td>...</td>\n",
              "      <td>...</td>\n",
              "      <td>...</td>\n",
              "      <td>...</td>\n",
              "      <td>...</td>\n",
              "      <td>...</td>\n",
              "      <td>...</td>\n",
              "      <td>...</td>\n",
              "      <td>...</td>\n",
              "      <td>...</td>\n",
              "      <td>...</td>\n",
              "    </tr>\n",
              "    <tr>\n",
              "      <th>10654</th>\n",
              "      <td>10655</td>\n",
              "      <td>320000</td>\n",
              "      <td>2016-06-07</td>\n",
              "      <td>3</td>\n",
              "      <td>2.00</td>\n",
              "      <td>1870</td>\n",
              "      <td>13068.0</td>\n",
              "      <td>Single Family</td>\n",
              "      <td>2012</td>\n",
              "      <td>Waterloo-Cedar Falls, IA</td>\n",
              "      <td>University of Northern Iowa</td>\n",
              "    </tr>\n",
              "    <tr>\n",
              "      <th>10655</th>\n",
              "      <td>10656</td>\n",
              "      <td>359100</td>\n",
              "      <td>2016-04-08</td>\n",
              "      <td>5</td>\n",
              "      <td>4.50</td>\n",
              "      <td>2119</td>\n",
              "      <td>11325.6</td>\n",
              "      <td>Single Family</td>\n",
              "      <td>2013</td>\n",
              "      <td>Waterloo-Cedar Falls, IA</td>\n",
              "      <td>University of Northern Iowa</td>\n",
              "    </tr>\n",
              "    <tr>\n",
              "      <th>10656</th>\n",
              "      <td>10657</td>\n",
              "      <td>349646</td>\n",
              "      <td>2016-06-13</td>\n",
              "      <td>3</td>\n",
              "      <td>1.75</td>\n",
              "      <td>1949</td>\n",
              "      <td>14374.8</td>\n",
              "      <td>Single Family</td>\n",
              "      <td>2015</td>\n",
              "      <td>Waterloo-Cedar Falls, IA</td>\n",
              "      <td>University of Northern Iowa</td>\n",
              "    </tr>\n",
              "    <tr>\n",
              "      <th>10657</th>\n",
              "      <td>10658</td>\n",
              "      <td>288000</td>\n",
              "      <td>2016-04-16</td>\n",
              "      <td>4</td>\n",
              "      <td>4.00</td>\n",
              "      <td>2710</td>\n",
              "      <td>10890.0</td>\n",
              "      <td>Single Family</td>\n",
              "      <td>2012</td>\n",
              "      <td>Waterloo-Cedar Falls, IA</td>\n",
              "      <td>University of Northern Iowa</td>\n",
              "    </tr>\n",
              "    <tr>\n",
              "      <th>10658</th>\n",
              "      <td>10659</td>\n",
              "      <td>330000</td>\n",
              "      <td>2016-07-01</td>\n",
              "      <td>4</td>\n",
              "      <td>3.00</td>\n",
              "      <td>2702</td>\n",
              "      <td>13068.0</td>\n",
              "      <td>Single Family</td>\n",
              "      <td>2012</td>\n",
              "      <td>Waterloo-Cedar Falls, IA</td>\n",
              "      <td>University of Northern Iowa</td>\n",
              "    </tr>\n",
              "  </tbody>\n",
              "</table>\n",
              "<p>10659 rows × 11 columns</p>\n",
              "</div>"
            ],
            "text/plain": [
              "       Record  Sale_amount  Sale_date  Beds  Baths  Sqft_home  Sqft_lot  \\\n",
              "0           1       295000 2016-05-31     5   3.00       2020   38332.8   \n",
              "1           2       240000 2016-06-20     4   2.00       1498   54014.4   \n",
              "2           3       385000 2016-05-31     5   4.00       4000   85813.2   \n",
              "3           4       268000 2016-04-12     3   2.50       2283  118918.8   \n",
              "4           5       186000 2016-04-05     3   1.25       1527   15681.6   \n",
              "...       ...          ...        ...   ...    ...        ...       ...   \n",
              "10654   10655       320000 2016-06-07     3   2.00       1870   13068.0   \n",
              "10655   10656       359100 2016-04-08     5   4.50       2119   11325.6   \n",
              "10656   10657       349646 2016-06-13     3   1.75       1949   14374.8   \n",
              "10657   10658       288000 2016-04-16     4   4.00       2710   10890.0   \n",
              "10658   10659       330000 2016-07-01     4   3.00       2702   13068.0   \n",
              "\n",
              "                Type  Build_year                      Town  \\\n",
              "0      Single Family        1976                  Ames, IA   \n",
              "1      Single Family        2002                  Ames, IA   \n",
              "2      Single Family        2001                  Ames, IA   \n",
              "3      Single Family        1972                  Ames, IA   \n",
              "4      Single Family        1975                  Ames, IA   \n",
              "...              ...         ...                       ...   \n",
              "10654  Single Family        2012  Waterloo-Cedar Falls, IA   \n",
              "10655  Single Family        2013  Waterloo-Cedar Falls, IA   \n",
              "10656  Single Family        2015  Waterloo-Cedar Falls, IA   \n",
              "10657  Single Family        2012  Waterloo-Cedar Falls, IA   \n",
              "10658  Single Family        2012  Waterloo-Cedar Falls, IA   \n",
              "\n",
              "                        University  \n",
              "0            Iowa State University  \n",
              "1            Iowa State University  \n",
              "2            Iowa State University  \n",
              "3            Iowa State University  \n",
              "4            Iowa State University  \n",
              "...                            ...  \n",
              "10654  University of Northern Iowa  \n",
              "10655  University of Northern Iowa  \n",
              "10656  University of Northern Iowa  \n",
              "10657  University of Northern Iowa  \n",
              "10658  University of Northern Iowa  \n",
              "\n",
              "[10659 rows x 11 columns]"
            ]
          },
          "execution_count": 23,
          "metadata": {},
          "output_type": "execute_result"
        }
      ],
      "source": [
        "data"
      ]
    },
    {
      "cell_type": "markdown",
      "metadata": {},
      "source": [
        "Independent variables"
      ]
    },
    {
      "cell_type": "code",
      "execution_count": null,
      "metadata": {},
      "outputs": [],
      "source": [
        "X=data[['Beds', 'Baths', 'Sqft_home', 'Sqft_lot', 'Build_year']]"
      ]
    },
    {
      "cell_type": "markdown",
      "metadata": {},
      "source": [
        "Dependent variable"
      ]
    },
    {
      "cell_type": "code",
      "execution_count": null,
      "metadata": {},
      "outputs": [],
      "source": [
        "Y=data['Sale_amount']"
      ]
    },
    {
      "cell_type": "markdown",
      "metadata": {},
      "source": [
        "Splitting the data into train and test"
      ]
    },
    {
      "cell_type": "code",
      "execution_count": null,
      "metadata": {},
      "outputs": [],
      "source": [
        "from sklearn.model_selection import train_test_split\n",
        "X_train, X_test, Y_train, Y_test = train_test_split(X, Y, test_size=0.2, random_state=42)"
      ]
    },
    {
      "cell_type": "markdown",
      "metadata": {},
      "source": [
        "Fitting the data to the model"
      ]
    },
    {
      "cell_type": "code",
      "execution_count": null,
      "metadata": {},
      "outputs": [
        {
          "data": {
            "text/html": [
              "<style>#sk-container-id-1 {color: black;}#sk-container-id-1 pre{padding: 0;}#sk-container-id-1 div.sk-toggleable {background-color: white;}#sk-container-id-1 label.sk-toggleable__label {cursor: pointer;display: block;width: 100%;margin-bottom: 0;padding: 0.3em;box-sizing: border-box;text-align: center;}#sk-container-id-1 label.sk-toggleable__label-arrow:before {content: \"▸\";float: left;margin-right: 0.25em;color: #696969;}#sk-container-id-1 label.sk-toggleable__label-arrow:hover:before {color: black;}#sk-container-id-1 div.sk-estimator:hover label.sk-toggleable__label-arrow:before {color: black;}#sk-container-id-1 div.sk-toggleable__content {max-height: 0;max-width: 0;overflow: hidden;text-align: left;background-color: #f0f8ff;}#sk-container-id-1 div.sk-toggleable__content pre {margin: 0.2em;color: black;border-radius: 0.25em;background-color: #f0f8ff;}#sk-container-id-1 input.sk-toggleable__control:checked~div.sk-toggleable__content {max-height: 200px;max-width: 100%;overflow: auto;}#sk-container-id-1 input.sk-toggleable__control:checked~label.sk-toggleable__label-arrow:before {content: \"▾\";}#sk-container-id-1 div.sk-estimator input.sk-toggleable__control:checked~label.sk-toggleable__label {background-color: #d4ebff;}#sk-container-id-1 div.sk-label input.sk-toggleable__control:checked~label.sk-toggleable__label {background-color: #d4ebff;}#sk-container-id-1 input.sk-hidden--visually {border: 0;clip: rect(1px 1px 1px 1px);clip: rect(1px, 1px, 1px, 1px);height: 1px;margin: -1px;overflow: hidden;padding: 0;position: absolute;width: 1px;}#sk-container-id-1 div.sk-estimator {font-family: monospace;background-color: #f0f8ff;border: 1px dotted black;border-radius: 0.25em;box-sizing: border-box;margin-bottom: 0.5em;}#sk-container-id-1 div.sk-estimator:hover {background-color: #d4ebff;}#sk-container-id-1 div.sk-parallel-item::after {content: \"\";width: 100%;border-bottom: 1px solid gray;flex-grow: 1;}#sk-container-id-1 div.sk-label:hover label.sk-toggleable__label {background-color: #d4ebff;}#sk-container-id-1 div.sk-serial::before {content: \"\";position: absolute;border-left: 1px solid gray;box-sizing: border-box;top: 0;bottom: 0;left: 50%;z-index: 0;}#sk-container-id-1 div.sk-serial {display: flex;flex-direction: column;align-items: center;background-color: white;padding-right: 0.2em;padding-left: 0.2em;position: relative;}#sk-container-id-1 div.sk-item {position: relative;z-index: 1;}#sk-container-id-1 div.sk-parallel {display: flex;align-items: stretch;justify-content: center;background-color: white;position: relative;}#sk-container-id-1 div.sk-item::before, #sk-container-id-1 div.sk-parallel-item::before {content: \"\";position: absolute;border-left: 1px solid gray;box-sizing: border-box;top: 0;bottom: 0;left: 50%;z-index: -1;}#sk-container-id-1 div.sk-parallel-item {display: flex;flex-direction: column;z-index: 1;position: relative;background-color: white;}#sk-container-id-1 div.sk-parallel-item:first-child::after {align-self: flex-end;width: 50%;}#sk-container-id-1 div.sk-parallel-item:last-child::after {align-self: flex-start;width: 50%;}#sk-container-id-1 div.sk-parallel-item:only-child::after {width: 0;}#sk-container-id-1 div.sk-dashed-wrapped {border: 1px dashed gray;margin: 0 0.4em 0.5em 0.4em;box-sizing: border-box;padding-bottom: 0.4em;background-color: white;}#sk-container-id-1 div.sk-label label {font-family: monospace;font-weight: bold;display: inline-block;line-height: 1.2em;}#sk-container-id-1 div.sk-label-container {text-align: center;}#sk-container-id-1 div.sk-container {/* jupyter's `normalize.less` sets `[hidden] { display: none; }` but bootstrap.min.css set `[hidden] { display: none !important; }` so we also need the `!important` here to be able to override the default hidden behavior on the sphinx rendered scikit-learn.org. See: https://github.com/scikit-learn/scikit-learn/issues/21755 */display: inline-block !important;position: relative;}#sk-container-id-1 div.sk-text-repr-fallback {display: none;}</style><div id=\"sk-container-id-1\" class=\"sk-top-container\"><div class=\"sk-text-repr-fallback\"><pre>RandomForestRegressor()</pre><b>In a Jupyter environment, please rerun this cell to show the HTML representation or trust the notebook. <br />On GitHub, the HTML representation is unable to render, please try loading this page with nbviewer.org.</b></div><div class=\"sk-container\" hidden><div class=\"sk-item\"><div class=\"sk-estimator sk-toggleable\"><input class=\"sk-toggleable__control sk-hidden--visually\" id=\"sk-estimator-id-1\" type=\"checkbox\" checked><label for=\"sk-estimator-id-1\" class=\"sk-toggleable__label sk-toggleable__label-arrow\">RandomForestRegressor</label><div class=\"sk-toggleable__content\"><pre>RandomForestRegressor()</pre></div></div></div></div></div>"
            ],
            "text/plain": [
              "RandomForestRegressor()"
            ]
          },
          "execution_count": 27,
          "metadata": {},
          "output_type": "execute_result"
        }
      ],
      "source": [
        "from sklearn.ensemble import RandomForestRegressor  \n",
        "RFR = RandomForestRegressor()\n",
        "RFR.fit(X_train, Y_train)"
      ]
    },
    {
      "cell_type": "markdown",
      "metadata": {},
      "source": [
        "Prediction"
      ]
    },
    {
      "cell_type": "code",
      "execution_count": null,
      "metadata": {},
      "outputs": [],
      "source": [
        "from sklearn.metrics import mean_absolute_error, mean_squared_error, r2_score\n",
        "Y_pred = RFR.predict(X_test)"
      ]
    },
    {
      "cell_type": "markdown",
      "metadata": {},
      "source": [
        "Model performance metrics"
      ]
    },
    {
      "cell_type": "code",
      "execution_count": null,
      "metadata": {},
      "outputs": [
        {
          "name": "stdout",
          "output_type": "stream",
          "text": [
            "Mean Absolute Error: 150241.65823217636\n",
            "Mean Squared Error: 77715326040.4339\n",
            "R-squared: 0.44577430399887397\n"
          ]
        }
      ],
      "source": [
        "mae = mean_absolute_error(Y_test, Y_pred)\n",
        "mse = mean_squared_error(Y_test, Y_pred)\n",
        "r2 = r2_score(Y_test, Y_pred)\n",
        "\n",
        "print(f\"Mean Absolute Error: {mae}\")\n",
        "print(f\"Mean Squared Error: {mse}\")\n",
        "print(f\"R-squared: {r2}\")"
      ]
    },
    {
      "cell_type": "markdown",
      "metadata": {},
      "source": [
        "Using Linear Regression"
      ]
    },
    {
      "cell_type": "code",
      "execution_count": null,
      "metadata": {},
      "outputs": [
        {
          "data": {
            "text/html": [
              "<style>#sk-container-id-2 {color: black;}#sk-container-id-2 pre{padding: 0;}#sk-container-id-2 div.sk-toggleable {background-color: white;}#sk-container-id-2 label.sk-toggleable__label {cursor: pointer;display: block;width: 100%;margin-bottom: 0;padding: 0.3em;box-sizing: border-box;text-align: center;}#sk-container-id-2 label.sk-toggleable__label-arrow:before {content: \"▸\";float: left;margin-right: 0.25em;color: #696969;}#sk-container-id-2 label.sk-toggleable__label-arrow:hover:before {color: black;}#sk-container-id-2 div.sk-estimator:hover label.sk-toggleable__label-arrow:before {color: black;}#sk-container-id-2 div.sk-toggleable__content {max-height: 0;max-width: 0;overflow: hidden;text-align: left;background-color: #f0f8ff;}#sk-container-id-2 div.sk-toggleable__content pre {margin: 0.2em;color: black;border-radius: 0.25em;background-color: #f0f8ff;}#sk-container-id-2 input.sk-toggleable__control:checked~div.sk-toggleable__content {max-height: 200px;max-width: 100%;overflow: auto;}#sk-container-id-2 input.sk-toggleable__control:checked~label.sk-toggleable__label-arrow:before {content: \"▾\";}#sk-container-id-2 div.sk-estimator input.sk-toggleable__control:checked~label.sk-toggleable__label {background-color: #d4ebff;}#sk-container-id-2 div.sk-label input.sk-toggleable__control:checked~label.sk-toggleable__label {background-color: #d4ebff;}#sk-container-id-2 input.sk-hidden--visually {border: 0;clip: rect(1px 1px 1px 1px);clip: rect(1px, 1px, 1px, 1px);height: 1px;margin: -1px;overflow: hidden;padding: 0;position: absolute;width: 1px;}#sk-container-id-2 div.sk-estimator {font-family: monospace;background-color: #f0f8ff;border: 1px dotted black;border-radius: 0.25em;box-sizing: border-box;margin-bottom: 0.5em;}#sk-container-id-2 div.sk-estimator:hover {background-color: #d4ebff;}#sk-container-id-2 div.sk-parallel-item::after {content: \"\";width: 100%;border-bottom: 1px solid gray;flex-grow: 1;}#sk-container-id-2 div.sk-label:hover label.sk-toggleable__label {background-color: #d4ebff;}#sk-container-id-2 div.sk-serial::before {content: \"\";position: absolute;border-left: 1px solid gray;box-sizing: border-box;top: 0;bottom: 0;left: 50%;z-index: 0;}#sk-container-id-2 div.sk-serial {display: flex;flex-direction: column;align-items: center;background-color: white;padding-right: 0.2em;padding-left: 0.2em;position: relative;}#sk-container-id-2 div.sk-item {position: relative;z-index: 1;}#sk-container-id-2 div.sk-parallel {display: flex;align-items: stretch;justify-content: center;background-color: white;position: relative;}#sk-container-id-2 div.sk-item::before, #sk-container-id-2 div.sk-parallel-item::before {content: \"\";position: absolute;border-left: 1px solid gray;box-sizing: border-box;top: 0;bottom: 0;left: 50%;z-index: -1;}#sk-container-id-2 div.sk-parallel-item {display: flex;flex-direction: column;z-index: 1;position: relative;background-color: white;}#sk-container-id-2 div.sk-parallel-item:first-child::after {align-self: flex-end;width: 50%;}#sk-container-id-2 div.sk-parallel-item:last-child::after {align-self: flex-start;width: 50%;}#sk-container-id-2 div.sk-parallel-item:only-child::after {width: 0;}#sk-container-id-2 div.sk-dashed-wrapped {border: 1px dashed gray;margin: 0 0.4em 0.5em 0.4em;box-sizing: border-box;padding-bottom: 0.4em;background-color: white;}#sk-container-id-2 div.sk-label label {font-family: monospace;font-weight: bold;display: inline-block;line-height: 1.2em;}#sk-container-id-2 div.sk-label-container {text-align: center;}#sk-container-id-2 div.sk-container {/* jupyter's `normalize.less` sets `[hidden] { display: none; }` but bootstrap.min.css set `[hidden] { display: none !important; }` so we also need the `!important` here to be able to override the default hidden behavior on the sphinx rendered scikit-learn.org. See: https://github.com/scikit-learn/scikit-learn/issues/21755 */display: inline-block !important;position: relative;}#sk-container-id-2 div.sk-text-repr-fallback {display: none;}</style><div id=\"sk-container-id-2\" class=\"sk-top-container\"><div class=\"sk-text-repr-fallback\"><pre>LinearRegression()</pre><b>In a Jupyter environment, please rerun this cell to show the HTML representation or trust the notebook. <br />On GitHub, the HTML representation is unable to render, please try loading this page with nbviewer.org.</b></div><div class=\"sk-container\" hidden><div class=\"sk-item\"><div class=\"sk-estimator sk-toggleable\"><input class=\"sk-toggleable__control sk-hidden--visually\" id=\"sk-estimator-id-2\" type=\"checkbox\" checked><label for=\"sk-estimator-id-2\" class=\"sk-toggleable__label sk-toggleable__label-arrow\">LinearRegression</label><div class=\"sk-toggleable__content\"><pre>LinearRegression()</pre></div></div></div></div></div>"
            ],
            "text/plain": [
              "LinearRegression()"
            ]
          },
          "execution_count": 30,
          "metadata": {},
          "output_type": "execute_result"
        }
      ],
      "source": [
        "from sklearn.linear_model import LinearRegression \n",
        "LR = LinearRegression()\n",
        "LR.fit(X_train, Y_train)"
      ]
    },
    {
      "cell_type": "code",
      "execution_count": null,
      "metadata": {},
      "outputs": [],
      "source": [
        "from sklearn.metrics import mean_absolute_error, mean_squared_error, r2_score\n",
        "Y_pred_lr = LR.predict(X_test)"
      ]
    },
    {
      "cell_type": "code",
      "execution_count": null,
      "metadata": {},
      "outputs": [
        {
          "name": "stdout",
          "output_type": "stream",
          "text": [
            "Mean Absolute Error: 157879.44659877854\n",
            "Mean Squared Error: 134357075598.14862\n",
            "R-squared: 0.04183450639687902\n"
          ]
        }
      ],
      "source": [
        "mae = mean_absolute_error(Y_test, Y_pred_lr)\n",
        "mse = mean_squared_error(Y_test, Y_pred_lr)\n",
        "r2 = r2_score(Y_test, Y_pred_lr)\n",
        "\n",
        "print(f\"Mean Absolute Error: {mae}\")\n",
        "print(f\"Mean Squared Error: {mse}\")\n",
        "print(f\"R-squared: {r2}\")"
      ]
    },
    {
      "cell_type": "markdown",
      "metadata": {},
      "source": [
        "Using Ridge Regression"
      ]
    },
    {
      "cell_type": "code",
      "execution_count": null,
      "metadata": {},
      "outputs": [],
      "source": [
        "from sklearn.linear_model import Lasso, Ridge"
      ]
    },
    {
      "cell_type": "code",
      "execution_count": null,
      "metadata": {},
      "outputs": [
        {
          "data": {
            "text/html": [
              "<style>#sk-container-id-3 {color: black;}#sk-container-id-3 pre{padding: 0;}#sk-container-id-3 div.sk-toggleable {background-color: white;}#sk-container-id-3 label.sk-toggleable__label {cursor: pointer;display: block;width: 100%;margin-bottom: 0;padding: 0.3em;box-sizing: border-box;text-align: center;}#sk-container-id-3 label.sk-toggleable__label-arrow:before {content: \"▸\";float: left;margin-right: 0.25em;color: #696969;}#sk-container-id-3 label.sk-toggleable__label-arrow:hover:before {color: black;}#sk-container-id-3 div.sk-estimator:hover label.sk-toggleable__label-arrow:before {color: black;}#sk-container-id-3 div.sk-toggleable__content {max-height: 0;max-width: 0;overflow: hidden;text-align: left;background-color: #f0f8ff;}#sk-container-id-3 div.sk-toggleable__content pre {margin: 0.2em;color: black;border-radius: 0.25em;background-color: #f0f8ff;}#sk-container-id-3 input.sk-toggleable__control:checked~div.sk-toggleable__content {max-height: 200px;max-width: 100%;overflow: auto;}#sk-container-id-3 input.sk-toggleable__control:checked~label.sk-toggleable__label-arrow:before {content: \"▾\";}#sk-container-id-3 div.sk-estimator input.sk-toggleable__control:checked~label.sk-toggleable__label {background-color: #d4ebff;}#sk-container-id-3 div.sk-label input.sk-toggleable__control:checked~label.sk-toggleable__label {background-color: #d4ebff;}#sk-container-id-3 input.sk-hidden--visually {border: 0;clip: rect(1px 1px 1px 1px);clip: rect(1px, 1px, 1px, 1px);height: 1px;margin: -1px;overflow: hidden;padding: 0;position: absolute;width: 1px;}#sk-container-id-3 div.sk-estimator {font-family: monospace;background-color: #f0f8ff;border: 1px dotted black;border-radius: 0.25em;box-sizing: border-box;margin-bottom: 0.5em;}#sk-container-id-3 div.sk-estimator:hover {background-color: #d4ebff;}#sk-container-id-3 div.sk-parallel-item::after {content: \"\";width: 100%;border-bottom: 1px solid gray;flex-grow: 1;}#sk-container-id-3 div.sk-label:hover label.sk-toggleable__label {background-color: #d4ebff;}#sk-container-id-3 div.sk-serial::before {content: \"\";position: absolute;border-left: 1px solid gray;box-sizing: border-box;top: 0;bottom: 0;left: 50%;z-index: 0;}#sk-container-id-3 div.sk-serial {display: flex;flex-direction: column;align-items: center;background-color: white;padding-right: 0.2em;padding-left: 0.2em;position: relative;}#sk-container-id-3 div.sk-item {position: relative;z-index: 1;}#sk-container-id-3 div.sk-parallel {display: flex;align-items: stretch;justify-content: center;background-color: white;position: relative;}#sk-container-id-3 div.sk-item::before, #sk-container-id-3 div.sk-parallel-item::before {content: \"\";position: absolute;border-left: 1px solid gray;box-sizing: border-box;top: 0;bottom: 0;left: 50%;z-index: -1;}#sk-container-id-3 div.sk-parallel-item {display: flex;flex-direction: column;z-index: 1;position: relative;background-color: white;}#sk-container-id-3 div.sk-parallel-item:first-child::after {align-self: flex-end;width: 50%;}#sk-container-id-3 div.sk-parallel-item:last-child::after {align-self: flex-start;width: 50%;}#sk-container-id-3 div.sk-parallel-item:only-child::after {width: 0;}#sk-container-id-3 div.sk-dashed-wrapped {border: 1px dashed gray;margin: 0 0.4em 0.5em 0.4em;box-sizing: border-box;padding-bottom: 0.4em;background-color: white;}#sk-container-id-3 div.sk-label label {font-family: monospace;font-weight: bold;display: inline-block;line-height: 1.2em;}#sk-container-id-3 div.sk-label-container {text-align: center;}#sk-container-id-3 div.sk-container {/* jupyter's `normalize.less` sets `[hidden] { display: none; }` but bootstrap.min.css set `[hidden] { display: none !important; }` so we also need the `!important` here to be able to override the default hidden behavior on the sphinx rendered scikit-learn.org. See: https://github.com/scikit-learn/scikit-learn/issues/21755 */display: inline-block !important;position: relative;}#sk-container-id-3 div.sk-text-repr-fallback {display: none;}</style><div id=\"sk-container-id-3\" class=\"sk-top-container\"><div class=\"sk-text-repr-fallback\"><pre>Lasso()</pre><b>In a Jupyter environment, please rerun this cell to show the HTML representation or trust the notebook. <br />On GitHub, the HTML representation is unable to render, please try loading this page with nbviewer.org.</b></div><div class=\"sk-container\" hidden><div class=\"sk-item\"><div class=\"sk-estimator sk-toggleable\"><input class=\"sk-toggleable__control sk-hidden--visually\" id=\"sk-estimator-id-3\" type=\"checkbox\" checked><label for=\"sk-estimator-id-3\" class=\"sk-toggleable__label sk-toggleable__label-arrow\">Lasso</label><div class=\"sk-toggleable__content\"><pre>Lasso()</pre></div></div></div></div></div>"
            ],
            "text/plain": [
              "Lasso()"
            ]
          },
          "execution_count": 34,
          "metadata": {},
          "output_type": "execute_result"
        }
      ],
      "source": [
        "from sklearn.linear_model import Lasso\n",
        "L = Lasso()\n",
        "L.fit(X_train, Y_train)"
      ]
    },
    {
      "cell_type": "code",
      "execution_count": null,
      "metadata": {},
      "outputs": [],
      "source": [
        "from sklearn.metrics import mean_absolute_error, mean_squared_error, r2_score\n",
        "Y_pred_l = L.predict(X_test)"
      ]
    },
    {
      "cell_type": "code",
      "execution_count": null,
      "metadata": {},
      "outputs": [
        {
          "name": "stdout",
          "output_type": "stream",
          "text": [
            "Mean Absolute Error: 157879.1780372395\n",
            "Mean Squared Error: 134357589621.11568\n",
            "R-squared: 0.04183450639687902\n"
          ]
        }
      ],
      "source": [
        "mae = mean_absolute_error(Y_test, Y_pred_l)\n",
        "mse = mean_squared_error(Y_test, Y_pred_l)\n",
        "r2 = r2_score(Y_test, Y_pred_lr)\n",
        "\n",
        "print(f\"Mean Absolute Error: {mae}\")\n",
        "print(f\"Mean Squared Error: {mse}\")\n",
        "print(f\"R-squared: {r2}\")"
      ]
    },
    {
      "cell_type": "markdown",
      "metadata": {},
      "source": [
        "Including Family Type"
      ]
    },
    {
      "cell_type": "code",
      "execution_count": null,
      "metadata": {},
      "outputs": [],
      "source": [
        "type=data['Type'].values\n",
        "type=type.tolist()"
      ]
    },
    {
      "cell_type": "markdown",
      "metadata": {},
      "source": [
        "Encoding the Categorical variable"
      ]
    },
    {
      "cell_type": "code",
      "execution_count": null,
      "metadata": {},
      "outputs": [
        {
          "name": "stdout",
          "output_type": "stream",
          "text": [
            "[2 2 2 ... 2 2 2]\n"
          ]
        }
      ],
      "source": [
        "from sklearn.preprocessing import LabelEncoder\n",
        "label_encoder = LabelEncoder()\n",
        "\n",
        "type_enc = label_encoder.fit_transform(type)\n",
        "\n",
        "print(type_enc)\n"
      ]
    },
    {
      "cell_type": "code",
      "execution_count": null,
      "metadata": {},
      "outputs": [],
      "source": [
        "data['Type_enc']=type_enc"
      ]
    },
    {
      "cell_type": "markdown",
      "metadata": {},
      "source": [
        "Updated dataset"
      ]
    },
    {
      "cell_type": "code",
      "execution_count": null,
      "metadata": {},
      "outputs": [
        {
          "data": {
            "text/html": [
              "<div>\n",
              "<style scoped>\n",
              "    .dataframe tbody tr th:only-of-type {\n",
              "        vertical-align: middle;\n",
              "    }\n",
              "\n",
              "    .dataframe tbody tr th {\n",
              "        vertical-align: top;\n",
              "    }\n",
              "\n",
              "    .dataframe thead th {\n",
              "        text-align: right;\n",
              "    }\n",
              "</style>\n",
              "<table border=\"1\" class=\"dataframe\">\n",
              "  <thead>\n",
              "    <tr style=\"text-align: right;\">\n",
              "      <th></th>\n",
              "      <th>Record</th>\n",
              "      <th>Sale_amount</th>\n",
              "      <th>Sale_date</th>\n",
              "      <th>Beds</th>\n",
              "      <th>Baths</th>\n",
              "      <th>Sqft_home</th>\n",
              "      <th>Sqft_lot</th>\n",
              "      <th>Type</th>\n",
              "      <th>Build_year</th>\n",
              "      <th>Town</th>\n",
              "      <th>University</th>\n",
              "      <th>Type_enc</th>\n",
              "    </tr>\n",
              "  </thead>\n",
              "  <tbody>\n",
              "    <tr>\n",
              "      <th>0</th>\n",
              "      <td>1</td>\n",
              "      <td>295000</td>\n",
              "      <td>2016-05-31</td>\n",
              "      <td>5</td>\n",
              "      <td>3.00</td>\n",
              "      <td>2020</td>\n",
              "      <td>38332.8</td>\n",
              "      <td>Single Family</td>\n",
              "      <td>1976</td>\n",
              "      <td>Ames, IA</td>\n",
              "      <td>Iowa State University</td>\n",
              "      <td>2</td>\n",
              "    </tr>\n",
              "    <tr>\n",
              "      <th>1</th>\n",
              "      <td>2</td>\n",
              "      <td>240000</td>\n",
              "      <td>2016-06-20</td>\n",
              "      <td>4</td>\n",
              "      <td>2.00</td>\n",
              "      <td>1498</td>\n",
              "      <td>54014.4</td>\n",
              "      <td>Single Family</td>\n",
              "      <td>2002</td>\n",
              "      <td>Ames, IA</td>\n",
              "      <td>Iowa State University</td>\n",
              "      <td>2</td>\n",
              "    </tr>\n",
              "    <tr>\n",
              "      <th>2</th>\n",
              "      <td>3</td>\n",
              "      <td>385000</td>\n",
              "      <td>2016-05-31</td>\n",
              "      <td>5</td>\n",
              "      <td>4.00</td>\n",
              "      <td>4000</td>\n",
              "      <td>85813.2</td>\n",
              "      <td>Single Family</td>\n",
              "      <td>2001</td>\n",
              "      <td>Ames, IA</td>\n",
              "      <td>Iowa State University</td>\n",
              "      <td>2</td>\n",
              "    </tr>\n",
              "    <tr>\n",
              "      <th>3</th>\n",
              "      <td>4</td>\n",
              "      <td>268000</td>\n",
              "      <td>2016-04-12</td>\n",
              "      <td>3</td>\n",
              "      <td>2.50</td>\n",
              "      <td>2283</td>\n",
              "      <td>118918.8</td>\n",
              "      <td>Single Family</td>\n",
              "      <td>1972</td>\n",
              "      <td>Ames, IA</td>\n",
              "      <td>Iowa State University</td>\n",
              "      <td>2</td>\n",
              "    </tr>\n",
              "    <tr>\n",
              "      <th>4</th>\n",
              "      <td>5</td>\n",
              "      <td>186000</td>\n",
              "      <td>2016-04-05</td>\n",
              "      <td>3</td>\n",
              "      <td>1.25</td>\n",
              "      <td>1527</td>\n",
              "      <td>15681.6</td>\n",
              "      <td>Single Family</td>\n",
              "      <td>1975</td>\n",
              "      <td>Ames, IA</td>\n",
              "      <td>Iowa State University</td>\n",
              "      <td>2</td>\n",
              "    </tr>\n",
              "    <tr>\n",
              "      <th>...</th>\n",
              "      <td>...</td>\n",
              "      <td>...</td>\n",
              "      <td>...</td>\n",
              "      <td>...</td>\n",
              "      <td>...</td>\n",
              "      <td>...</td>\n",
              "      <td>...</td>\n",
              "      <td>...</td>\n",
              "      <td>...</td>\n",
              "      <td>...</td>\n",
              "      <td>...</td>\n",
              "      <td>...</td>\n",
              "    </tr>\n",
              "    <tr>\n",
              "      <th>10654</th>\n",
              "      <td>10655</td>\n",
              "      <td>320000</td>\n",
              "      <td>2016-06-07</td>\n",
              "      <td>3</td>\n",
              "      <td>2.00</td>\n",
              "      <td>1870</td>\n",
              "      <td>13068.0</td>\n",
              "      <td>Single Family</td>\n",
              "      <td>2012</td>\n",
              "      <td>Waterloo-Cedar Falls, IA</td>\n",
              "      <td>University of Northern Iowa</td>\n",
              "      <td>2</td>\n",
              "    </tr>\n",
              "    <tr>\n",
              "      <th>10655</th>\n",
              "      <td>10656</td>\n",
              "      <td>359100</td>\n",
              "      <td>2016-04-08</td>\n",
              "      <td>5</td>\n",
              "      <td>4.50</td>\n",
              "      <td>2119</td>\n",
              "      <td>11325.6</td>\n",
              "      <td>Single Family</td>\n",
              "      <td>2013</td>\n",
              "      <td>Waterloo-Cedar Falls, IA</td>\n",
              "      <td>University of Northern Iowa</td>\n",
              "      <td>2</td>\n",
              "    </tr>\n",
              "    <tr>\n",
              "      <th>10656</th>\n",
              "      <td>10657</td>\n",
              "      <td>349646</td>\n",
              "      <td>2016-06-13</td>\n",
              "      <td>3</td>\n",
              "      <td>1.75</td>\n",
              "      <td>1949</td>\n",
              "      <td>14374.8</td>\n",
              "      <td>Single Family</td>\n",
              "      <td>2015</td>\n",
              "      <td>Waterloo-Cedar Falls, IA</td>\n",
              "      <td>University of Northern Iowa</td>\n",
              "      <td>2</td>\n",
              "    </tr>\n",
              "    <tr>\n",
              "      <th>10657</th>\n",
              "      <td>10658</td>\n",
              "      <td>288000</td>\n",
              "      <td>2016-04-16</td>\n",
              "      <td>4</td>\n",
              "      <td>4.00</td>\n",
              "      <td>2710</td>\n",
              "      <td>10890.0</td>\n",
              "      <td>Single Family</td>\n",
              "      <td>2012</td>\n",
              "      <td>Waterloo-Cedar Falls, IA</td>\n",
              "      <td>University of Northern Iowa</td>\n",
              "      <td>2</td>\n",
              "    </tr>\n",
              "    <tr>\n",
              "      <th>10658</th>\n",
              "      <td>10659</td>\n",
              "      <td>330000</td>\n",
              "      <td>2016-07-01</td>\n",
              "      <td>4</td>\n",
              "      <td>3.00</td>\n",
              "      <td>2702</td>\n",
              "      <td>13068.0</td>\n",
              "      <td>Single Family</td>\n",
              "      <td>2012</td>\n",
              "      <td>Waterloo-Cedar Falls, IA</td>\n",
              "      <td>University of Northern Iowa</td>\n",
              "      <td>2</td>\n",
              "    </tr>\n",
              "  </tbody>\n",
              "</table>\n",
              "<p>10659 rows × 12 columns</p>\n",
              "</div>"
            ],
            "text/plain": [
              "       Record  Sale_amount  Sale_date  Beds  Baths  Sqft_home  Sqft_lot  \\\n",
              "0           1       295000 2016-05-31     5   3.00       2020   38332.8   \n",
              "1           2       240000 2016-06-20     4   2.00       1498   54014.4   \n",
              "2           3       385000 2016-05-31     5   4.00       4000   85813.2   \n",
              "3           4       268000 2016-04-12     3   2.50       2283  118918.8   \n",
              "4           5       186000 2016-04-05     3   1.25       1527   15681.6   \n",
              "...       ...          ...        ...   ...    ...        ...       ...   \n",
              "10654   10655       320000 2016-06-07     3   2.00       1870   13068.0   \n",
              "10655   10656       359100 2016-04-08     5   4.50       2119   11325.6   \n",
              "10656   10657       349646 2016-06-13     3   1.75       1949   14374.8   \n",
              "10657   10658       288000 2016-04-16     4   4.00       2710   10890.0   \n",
              "10658   10659       330000 2016-07-01     4   3.00       2702   13068.0   \n",
              "\n",
              "                Type  Build_year                      Town  \\\n",
              "0      Single Family        1976                  Ames, IA   \n",
              "1      Single Family        2002                  Ames, IA   \n",
              "2      Single Family        2001                  Ames, IA   \n",
              "3      Single Family        1972                  Ames, IA   \n",
              "4      Single Family        1975                  Ames, IA   \n",
              "...              ...         ...                       ...   \n",
              "10654  Single Family        2012  Waterloo-Cedar Falls, IA   \n",
              "10655  Single Family        2013  Waterloo-Cedar Falls, IA   \n",
              "10656  Single Family        2015  Waterloo-Cedar Falls, IA   \n",
              "10657  Single Family        2012  Waterloo-Cedar Falls, IA   \n",
              "10658  Single Family        2012  Waterloo-Cedar Falls, IA   \n",
              "\n",
              "                        University  Type_enc  \n",
              "0            Iowa State University         2  \n",
              "1            Iowa State University         2  \n",
              "2            Iowa State University         2  \n",
              "3            Iowa State University         2  \n",
              "4            Iowa State University         2  \n",
              "...                            ...       ...  \n",
              "10654  University of Northern Iowa         2  \n",
              "10655  University of Northern Iowa         2  \n",
              "10656  University of Northern Iowa         2  \n",
              "10657  University of Northern Iowa         2  \n",
              "10658  University of Northern Iowa         2  \n",
              "\n",
              "[10659 rows x 12 columns]"
            ]
          },
          "execution_count": 40,
          "metadata": {},
          "output_type": "execute_result"
        }
      ],
      "source": [
        "data"
      ]
    },
    {
      "cell_type": "markdown",
      "metadata": {},
      "source": [
        "Independent variables"
      ]
    },
    {
      "cell_type": "code",
      "execution_count": null,
      "metadata": {},
      "outputs": [],
      "source": [
        "X=data[['Beds', 'Baths', 'Sqft_home', 'Sqft_lot', 'Build_year', 'Type_enc']]"
      ]
    },
    {
      "cell_type": "markdown",
      "metadata": {},
      "source": [
        "Dependent variable"
      ]
    },
    {
      "cell_type": "code",
      "execution_count": null,
      "metadata": {},
      "outputs": [],
      "source": [
        "Y=data['Sale_amount']"
      ]
    },
    {
      "cell_type": "markdown",
      "metadata": {},
      "source": [
        "Splitting the dataset"
      ]
    },
    {
      "cell_type": "code",
      "execution_count": null,
      "metadata": {},
      "outputs": [],
      "source": [
        "from sklearn.model_selection import train_test_split\n",
        "X_train, X_test, Y_train, Y_test = train_test_split(X, Y, test_size=0.2, random_state=42)"
      ]
    },
    {
      "cell_type": "markdown",
      "metadata": {},
      "source": [
        "Fitting the data with Family Type to the model"
      ]
    },
    {
      "cell_type": "code",
      "execution_count": null,
      "metadata": {},
      "outputs": [
        {
          "data": {
            "text/html": [
              "<style>#sk-container-id-4 {color: black;}#sk-container-id-4 pre{padding: 0;}#sk-container-id-4 div.sk-toggleable {background-color: white;}#sk-container-id-4 label.sk-toggleable__label {cursor: pointer;display: block;width: 100%;margin-bottom: 0;padding: 0.3em;box-sizing: border-box;text-align: center;}#sk-container-id-4 label.sk-toggleable__label-arrow:before {content: \"▸\";float: left;margin-right: 0.25em;color: #696969;}#sk-container-id-4 label.sk-toggleable__label-arrow:hover:before {color: black;}#sk-container-id-4 div.sk-estimator:hover label.sk-toggleable__label-arrow:before {color: black;}#sk-container-id-4 div.sk-toggleable__content {max-height: 0;max-width: 0;overflow: hidden;text-align: left;background-color: #f0f8ff;}#sk-container-id-4 div.sk-toggleable__content pre {margin: 0.2em;color: black;border-radius: 0.25em;background-color: #f0f8ff;}#sk-container-id-4 input.sk-toggleable__control:checked~div.sk-toggleable__content {max-height: 200px;max-width: 100%;overflow: auto;}#sk-container-id-4 input.sk-toggleable__control:checked~label.sk-toggleable__label-arrow:before {content: \"▾\";}#sk-container-id-4 div.sk-estimator input.sk-toggleable__control:checked~label.sk-toggleable__label {background-color: #d4ebff;}#sk-container-id-4 div.sk-label input.sk-toggleable__control:checked~label.sk-toggleable__label {background-color: #d4ebff;}#sk-container-id-4 input.sk-hidden--visually {border: 0;clip: rect(1px 1px 1px 1px);clip: rect(1px, 1px, 1px, 1px);height: 1px;margin: -1px;overflow: hidden;padding: 0;position: absolute;width: 1px;}#sk-container-id-4 div.sk-estimator {font-family: monospace;background-color: #f0f8ff;border: 1px dotted black;border-radius: 0.25em;box-sizing: border-box;margin-bottom: 0.5em;}#sk-container-id-4 div.sk-estimator:hover {background-color: #d4ebff;}#sk-container-id-4 div.sk-parallel-item::after {content: \"\";width: 100%;border-bottom: 1px solid gray;flex-grow: 1;}#sk-container-id-4 div.sk-label:hover label.sk-toggleable__label {background-color: #d4ebff;}#sk-container-id-4 div.sk-serial::before {content: \"\";position: absolute;border-left: 1px solid gray;box-sizing: border-box;top: 0;bottom: 0;left: 50%;z-index: 0;}#sk-container-id-4 div.sk-serial {display: flex;flex-direction: column;align-items: center;background-color: white;padding-right: 0.2em;padding-left: 0.2em;position: relative;}#sk-container-id-4 div.sk-item {position: relative;z-index: 1;}#sk-container-id-4 div.sk-parallel {display: flex;align-items: stretch;justify-content: center;background-color: white;position: relative;}#sk-container-id-4 div.sk-item::before, #sk-container-id-4 div.sk-parallel-item::before {content: \"\";position: absolute;border-left: 1px solid gray;box-sizing: border-box;top: 0;bottom: 0;left: 50%;z-index: -1;}#sk-container-id-4 div.sk-parallel-item {display: flex;flex-direction: column;z-index: 1;position: relative;background-color: white;}#sk-container-id-4 div.sk-parallel-item:first-child::after {align-self: flex-end;width: 50%;}#sk-container-id-4 div.sk-parallel-item:last-child::after {align-self: flex-start;width: 50%;}#sk-container-id-4 div.sk-parallel-item:only-child::after {width: 0;}#sk-container-id-4 div.sk-dashed-wrapped {border: 1px dashed gray;margin: 0 0.4em 0.5em 0.4em;box-sizing: border-box;padding-bottom: 0.4em;background-color: white;}#sk-container-id-4 div.sk-label label {font-family: monospace;font-weight: bold;display: inline-block;line-height: 1.2em;}#sk-container-id-4 div.sk-label-container {text-align: center;}#sk-container-id-4 div.sk-container {/* jupyter's `normalize.less` sets `[hidden] { display: none; }` but bootstrap.min.css set `[hidden] { display: none !important; }` so we also need the `!important` here to be able to override the default hidden behavior on the sphinx rendered scikit-learn.org. See: https://github.com/scikit-learn/scikit-learn/issues/21755 */display: inline-block !important;position: relative;}#sk-container-id-4 div.sk-text-repr-fallback {display: none;}</style><div id=\"sk-container-id-4\" class=\"sk-top-container\"><div class=\"sk-text-repr-fallback\"><pre>RandomForestRegressor()</pre><b>In a Jupyter environment, please rerun this cell to show the HTML representation or trust the notebook. <br />On GitHub, the HTML representation is unable to render, please try loading this page with nbviewer.org.</b></div><div class=\"sk-container\" hidden><div class=\"sk-item\"><div class=\"sk-estimator sk-toggleable\"><input class=\"sk-toggleable__control sk-hidden--visually\" id=\"sk-estimator-id-4\" type=\"checkbox\" checked><label for=\"sk-estimator-id-4\" class=\"sk-toggleable__label sk-toggleable__label-arrow\">RandomForestRegressor</label><div class=\"sk-toggleable__content\"><pre>RandomForestRegressor()</pre></div></div></div></div></div>"
            ],
            "text/plain": [
              "RandomForestRegressor()"
            ]
          },
          "execution_count": 44,
          "metadata": {},
          "output_type": "execute_result"
        }
      ],
      "source": [
        "RFR2=RandomForestRegressor()\n",
        "RFR2.fit(X_train, Y_train)"
      ]
    },
    {
      "cell_type": "markdown",
      "metadata": {},
      "source": [
        "Prediction"
      ]
    },
    {
      "cell_type": "code",
      "execution_count": null,
      "metadata": {},
      "outputs": [],
      "source": [
        "from sklearn.metrics import mean_absolute_error, mean_squared_error, r2_score\n",
        "Y_pred_type = RFR2.predict(X_test)"
      ]
    },
    {
      "cell_type": "markdown",
      "metadata": {},
      "source": [
        "Model Performance Metrics"
      ]
    },
    {
      "cell_type": "code",
      "execution_count": null,
      "metadata": {},
      "outputs": [
        {
          "name": "stdout",
          "output_type": "stream",
          "text": [
            "Mean Absolute Error: 152292.40284847675\n",
            "Mean Squared Error: 80542392104.87842\n",
            "R-squared: 0.4256131242543184\n"
          ]
        }
      ],
      "source": [
        "mae = mean_absolute_error(Y_test, Y_pred_type)\n",
        "mse = mean_squared_error(Y_test, Y_pred_type)\n",
        "r2 = r2_score(Y_test, Y_pred_type)\n",
        "\n",
        "print(f\"Mean Absolute Error: {mae}\")\n",
        "print(f\"Mean Squared Error: {mse}\")\n",
        "print(f\"R-squared: {r2}\")"
      ]
    },
    {
      "cell_type": "markdown",
      "metadata": {},
      "source": [
        "As the performance of the model is better this this output, let us use this trained model for our website."
      ]
    },
    {
      "cell_type": "code",
      "execution_count": null,
      "metadata": {},
      "outputs": [],
      "source": [
        "import pickle\n",
        "pickle.dump(RFR2, open(\"model.pkl\", \"wb\"))"
      ]
    }
  ],
  "metadata": {
    "colab": {
      "provenance": []
    },
    "kernelspec": {
      "display_name": "Python 3",
      "language": "python",
      "name": "python3"
    },
    "language_info": {
      "codemirror_mode": {
        "name": "ipython",
        "version": 3
      },
      "file_extension": ".py",
      "mimetype": "text/x-python",
      "name": "python",
      "nbconvert_exporter": "python",
      "pygments_lexer": "ipython3",
      "version": "3.11.5"
    },
    "orig_nbformat": 4
  },
  "nbformat": 4,
  "nbformat_minor": 0
}
